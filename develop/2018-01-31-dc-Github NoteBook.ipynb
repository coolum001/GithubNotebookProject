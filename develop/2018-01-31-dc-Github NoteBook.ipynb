{
 "cells": [
  {
   "cell_type": "markdown",
   "metadata": {},
   "source": [
    "# Jupyter Notebook Title"
   ]
  },
  {
   "cell_type": "markdown",
   "metadata": {},
   "source": [
    "## Contents of Notebook\n",
    "Description of contents:\n",
    "\n",
    "Example Github Project\n",
    "\n",
    "Author: Don Cameron\n",
    "\n",
    "\n",
    "Contact: donrcameron@gmail.com, +61 (0) 413208746"
   ]
  },
  {
   "cell_type": "code",
   "execution_count": null,
   "metadata": {},
   "outputs": [],
   "source": []
  },
  {
   "cell_type": "markdown",
   "metadata": {},
   "source": [
    "### Notebook magic commands"
   ]
  },
  {
   "cell_type": "code",
   "execution_count": 1,
   "metadata": {},
   "outputs": [],
   "source": [
    "%matplotlib inline\n"
   ]
  },
  {
   "cell_type": "markdown",
   "metadata": {},
   "source": [
    "### Notebook imports"
   ]
  },
  {
   "cell_type": "code",
   "execution_count": 2,
   "metadata": {},
   "outputs": [],
   "source": [
    "# all imports should go here\n",
    "\n",
    "import pandas as pd\n",
    "import sys\n",
    "import os\n",
    "import subprocess\n",
    "import datetime\n",
    "import platform\n",
    "import datetime\n",
    "\n",
    "import matplotlib.pyplot as plt\n"
   ]
  },
  {
   "cell_type": "markdown",
   "metadata": {},
   "source": [
    "### Notebook version status"
   ]
  },
  {
   "cell_type": "code",
   "execution_count": 3,
   "metadata": {},
   "outputs": [
    {
     "data": {
      "application/javascript": [
       "var kernel = IPython.notebook.kernel;\n",
       "var thename = window.document.getElementById(\"notebook_name\").innerHTML;\n",
       "var command = \"theNotebook = \" + \"'\"+thename+\"'\";\n",
       "kernel.execute(command);"
      ],
      "text/plain": [
       "<IPython.core.display.Javascript object>"
      ]
     },
     "metadata": {},
     "output_type": "display_data"
    }
   ],
   "source": [
    "%%javascript\n",
    "var kernel = IPython.notebook.kernel;\n",
    "var thename = window.document.getElementById(\"notebook_name\").innerHTML;\n",
    "var command = \"theNotebook = \" + \"'\"+thename+\"'\";\n",
    "kernel.execute(command);"
   ]
  },
  {
   "cell_type": "code",
   "execution_count": 4,
   "metadata": {},
   "outputs": [
    {
     "name": "stdout",
     "output_type": "stream",
     "text": [
      "python version : 3.6.3 | packaged by conda-forge | (default, Nov  4 2017, 10:10:42) [MSC v.1900 64 bit (AMD64)]\n",
      "python environment : root36\n",
      "pandas version : 0.21.0\n",
      "current wkg dir: C:\\Users\\donrc\\Documents\\JupyterNotebooks\\GithubNotebookProject\\develop\n",
      "Notebook name: 2018-01-31-dc-Github NoteBook\n",
      "Notebook run at: 2018-02-09 14:58:14.137855 local time\n",
      "Notebook run at: 2018-02-09 04:58:14.137855 UTC\n",
      "Notebook run on: Windows-10-10.0.16299-SP0\n"
     ]
    }
   ],
   "source": [
    "# show info to support reproducability\n",
    "\n",
    "def python_env_name():\n",
    "    envs = subprocess.check_output('conda env list').splitlines()\n",
    "    # get unicode version of binary subprocess output\n",
    "    envu = [x.decode('ascii') for x in envs]\n",
    "    active_env = list(filter(lambda s: '*' in str(s), envu))[0]\n",
    "    env_name = str(active_env).split()[0]\n",
    "    return env_name\n",
    "#end python_env_name\n",
    "\n",
    "print('python version : ' + sys.version)\n",
    "print('python environment :', python_env_name())\n",
    "print('pandas version : ' + pd.__version__)\n",
    "\n",
    "print('current wkg dir: ' + os.getcwd())\n",
    "print('Notebook name: ' + theNotebook)\n",
    "print('Notebook run at: ' + str(datetime.datetime.now())+ ' local time')\n",
    "print('Notebook run at: ' + str(datetime.datetime.utcnow()) + ' UTC') \n",
    "print('Notebook run on: ' + platform.platform())\n"
   ]
  },
  {
   "cell_type": "markdown",
   "metadata": {},
   "source": [
    "### get current GIT identification"
   ]
  },
  {
   "cell_type": "code",
   "execution_count": 5,
   "metadata": {},
   "outputs": [],
   "source": [
    "\n",
    "#  GIT_LOCATION is the path of the git executable\n",
    "GIT_LOCATION = \\\n",
    "'C:\\\\Users\\\\donrc\\\\AppData\\\\Local\\\\GitHub\\\\PortableGit_f02737a78695063deace08e96d5042710d3e32db\\\\cmd\\\\git.exe'\n"
   ]
  },
  {
   "cell_type": "code",
   "execution_count": 6,
   "metadata": {},
   "outputs": [],
   "source": [
    "from githubid import githubid"
   ]
  },
  {
   "cell_type": "code",
   "execution_count": 7,
   "metadata": {},
   "outputs": [
    {
     "data": {
      "text/plain": [
       "('refs/heads/githubidpackage',\n",
       " '1b3814f4a11dc9da7d9af65d2347a6d7b0294f8b',\n",
       " 'v1.0-8-g1b3814f',\n",
       " '1b3814f',\n",
       " 'C:/Users/donrc/Documents/JupyterNotebooks/GithubNotebookProject',\n",
       " 'https://github.com/coolum001/GithubNotebookProject.git')"
      ]
     },
     "execution_count": 7,
     "metadata": {},
     "output_type": "execute_result"
    }
   ],
   "source": [
    "githubid.git_version(git_location = GIT_LOCATION)\n"
   ]
  },
  {
   "cell_type": "code",
   "execution_count": 22,
   "metadata": {},
   "outputs": [],
   "source": [
    "\n"
   ]
  },
  {
   "cell_type": "code",
   "execution_count": null,
   "metadata": {},
   "outputs": [],
   "source": [
    "print('Hi')"
   ]
  },
  {
   "cell_type": "code",
   "execution_count": null,
   "metadata": {},
   "outputs": [],
   "source": [
    "print('Cell created in dev branch')"
   ]
  },
  {
   "cell_type": "code",
   "execution_count": null,
   "metadata": {},
   "outputs": [],
   "source": []
  },
  {
   "cell_type": "code",
   "execution_count": null,
   "metadata": {},
   "outputs": [],
   "source": []
  },
  {
   "cell_type": "markdown",
   "metadata": {},
   "source": [
    "### Customizations for notebook"
   ]
  },
  {
   "cell_type": "code",
   "execution_count": null,
   "metadata": {},
   "outputs": [],
   "source": [
    "# path to saved figures\n",
    "FIGURE_PREFIX = '../figures/'"
   ]
  },
  {
   "cell_type": "markdown",
   "metadata": {},
   "source": [
    "### Required notebooks to be run first"
   ]
  },
  {
   "cell_type": "code",
   "execution_count": null,
   "metadata": {},
   "outputs": [],
   "source": [
    "from IPython.display import FileLink\n",
    "FileLink('../develop/a.ipynb')"
   ]
  },
  {
   "cell_type": "markdown",
   "metadata": {},
   "source": [
    "### Display associated webpages (eg source of data)"
   ]
  },
  {
   "cell_type": "code",
   "execution_count": null,
   "metadata": {},
   "outputs": [],
   "source": [
    "from IPython.display import IFrame\n",
    "IFrame(\"http://www.net-analysis.com\", width = 800, height = 200)"
   ]
  },
  {
   "cell_type": "markdown",
   "metadata": {},
   "source": [
    "### Save figures to figures directory"
   ]
  },
  {
   "cell_type": "code",
   "execution_count": null,
   "metadata": {},
   "outputs": [],
   "source": [
    "def save_figure(figure_title='TemplateNotebookFigure', figure_prefix='../figures/'):\n",
    "    \"\"\"\n",
    "     save_figure:  same the current matplotlib.pyplot figure as a jpg file\n",
    "\n",
    "     a file is generated from the supplied title, and the date and time\n",
    "\n",
    "     Inputs:\n",
    "     figure_title: string, incorporated into file name\n",
    "     figure_prefix: string giving relative (or absolute) path the save location\n",
    "     Returns:\n",
    "     True is save OK\n",
    "     False otherwise\n",
    "\n",
    "     Outputs:\n",
    "     prints error messages on exceptions\n",
    "\n",
    "    \"\"\"\n",
    "\n",
    "    try:\n",
    "        fname     = figure_prefix+figure_title+datetime.datetime.now().strftime(\"%Y%m%d-%H%M%S\")+'.jpg'\n",
    "        plt.savefig(fname)\n",
    "        print(fname+' saved.')\n",
    "    except IOError as err:\n",
    "        print('Unable to save figure - IO Error!')\n",
    "        print(\"IO error: {0}\".format(err))\n",
    "    except OSError as err:\n",
    "        print('Unable to save figure - OS Error!')\n",
    "        print(\"OS error: {0}\".format(err))\n",
    "    except:\n",
    "        print('Unable to save figure - Unexpected Error!')\n",
    "        print(\"Unexpected error:\", sys.exc_info()[0])\n",
    "        raise\n",
    "    #end try\n",
    "#end save_figure\n",
    "\n",
    "x         =[1,2,3,4,5,6]\n",
    "y         =[2,4,5,2,5,9]\n",
    "plot2     = sns.barplot(x=x, y=y)\n",
    "\n",
    "save_figure(figure_title='Test', figure_prefix=FIGURE_PREFIX)\n",
    "\n",
    "plt.show()"
   ]
  },
  {
   "cell_type": "markdown",
   "metadata": {},
   "source": [
    "### Display images"
   ]
  },
  {
   "cell_type": "code",
   "execution_count": null,
   "metadata": {},
   "outputs": [],
   "source": [
    "from IPython.display import Image\n",
    "Image(filename='../figures/apc.jpg', height = 100, width = 200)"
   ]
  },
  {
   "cell_type": "markdown",
   "metadata": {
    "collapsed": true
   },
   "source": [
    "## Conclusions / Summary"
   ]
  },
  {
   "cell_type": "code",
   "execution_count": null,
   "metadata": {},
   "outputs": [],
   "source": []
  },
  {
   "cell_type": "code",
   "execution_count": null,
   "metadata": {},
   "outputs": [],
   "source": []
  }
 ],
 "metadata": {
  "anaconda-cloud": {},
  "kernelspec": {
   "display_name": "Python [default]",
   "language": "python",
   "name": "python3"
  },
  "language_info": {
   "codemirror_mode": {
    "name": "ipython",
    "version": 3
   },
   "file_extension": ".py",
   "mimetype": "text/x-python",
   "name": "python",
   "nbconvert_exporter": "python",
   "pygments_lexer": "ipython3",
   "version": "3.6.3"
  }
 },
 "nbformat": 4,
 "nbformat_minor": 1
}
